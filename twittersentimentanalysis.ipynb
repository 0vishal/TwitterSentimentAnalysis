{
 "cells": [
  {
   "cell_type": "code",
   "execution_count": 3,
   "metadata": {},
   "outputs": [],
   "source": [
    "import tweepy\n",
    "from textblob import TextBlob\n",
    "import os"
   ]
  },
  {
   "cell_type": "code",
   "execution_count": 5,
   "metadata": {},
   "outputs": [],
   "source": [
    "consumer_key = os.getenv('CKEY')\n",
    "consumer_key_secret = os.getenv('CSECRET')\n",
    "\n",
    "access_token = os.getenv('ATOKEN')\n",
    "access_token_secret = os.getenv('ASECRET')\n",
    "\n",
    "auth = tweepy.OAuthHandler(consumer_key,consumer_key_secret)\n",
    "\n",
    "auth.set_access_token(access_token,access_token_secret)\n",
    "\n",
    "api = tweepy.API(auth)\n"
   ]
  },
  {
   "cell_type": "code",
   "execution_count": 8,
   "metadata": {},
   "outputs": [
    {
     "name": "stdout",
     "output_type": "stream",
     "text": [
      "Abans que fos obligatòria la #mascareta pel #Covid19, vaig fer aquest tuit amb un dibuix d'@eulaliallopart que m'ag… https://t.co/EqIbrneKHn\n",
      "Sentiment(polarity=0.0, subjectivity=0.0)\n",
      "neutral\n",
      "RT @vidhi_godiyal: #Wedemandincreaseinstipend #uttarakhand #interns #COVID19 #CovidWarriors #pandemic #Medicos #JusticeMatters\n",
      "Sentiment(polarity=0.0, subjectivity=0.0)\n",
      "neutral\n",
      "RT @BetoLealX2: En Nuevo León, gobierno regalando boletos para uno de los parques de diversiones de la ciudad en el momento que arrecian lo…\n",
      "Sentiment(polarity=0.0, subjectivity=0.0)\n",
      "neutral\n",
      "RT @KKMPutrajaya: Terkini. 26 Jun. Kes baharu hari ini 5,803. \n",
      "\n",
      "#COVID19\n",
      "Sentiment(polarity=0.0, subjectivity=0.0)\n",
      "neutral\n",
      "現時点での本日の国内（日本）の新型コロナウイルス感染者は159人です。(更新時間: 2021/06/26 15:29 )\n",
      "#国内コロナ感染者数\n",
      "Sentiment(polarity=0.0, subjectivity=0.0)\n",
      "neutral\n",
      "RT @jindadilkashmir: 𝐄𝐃𝐔𝐂𝐀𝐓𝐈𝐎𝐍 𝐈𝐍 𝐓𝐈𝐌𝐄𝐒 𝐎𝐅 #COVID19 \n",
      "\n",
      "#Kashmir #JammuAndKashmir #COVID19 #children #education https://t.co/smOAWcR1sD\n",
      "Sentiment(polarity=0.0, subjectivity=0.0)\n",
      "neutral\n",
      "COVID-19 Vaccination in India: Over 1.45 Crore Vaccine Doses Available With States, Says Centre #COVID19… https://t.co/S5gqSNAVOE\n",
      "Sentiment(polarity=0.4, subjectivity=0.4)\n",
      "positive\n",
      "RT @DrEricDing: Let this sink in—the world’s most 2-dose fully vaccinated country, Israel 🇮🇱, is forced to double-back and reinstate its in…\n",
      "Sentiment(polarity=0.09999999999999998, subjectivity=0.35)\n",
      "positive\n",
      "ஜூன் 26 சென்னை நிலவரம்; கரோனா தொற்று: மண்டல வாரியான பட்டியல்\n",
      "#COVID19 #NewsUpdate #MetroPeople \n",
      "\n",
      "Click here to more… https://t.co/avyU9eb9wE\n",
      "Sentiment(polarity=0.0, subjectivity=0.0)\n",
      "neutral\n",
      "RT @WFP: 🔺39 billion meals missed\n",
      "🔺370 million children impacted due to school closures in 2020. \n",
      "\n",
      "That's nothing short of a tragedy.\n",
      "\n",
      "To r…\n",
      "Sentiment(polarity=-0.0625, subjectivity=0.3375)\n",
      "negative\n",
      "RT @ultimahsv: #ÚltimaHora | @SaludSV informa sobre 5 nuevas víctimas del COVID19 en El Salvador, en las últimas 24 horas.\n",
      "\n",
      "-Masculino, gru…\n",
      "Sentiment(polarity=0.0, subjectivity=0.0)\n",
      "neutral\n",
      "RT @PTTVOnlineNews: இனி கர்ப்பிணிகளும் கொரோனா தடுப்பூசி செலுத்திக் கொள்ளலாம்\n",
      "\n",
      "இன்றைய லைவ் அப்டேட்ஸ் &gt; https://t.co/xR2dzu3MIu\n",
      "\n",
      "#pregnantwom…\n",
      "Sentiment(polarity=0.0, subjectivity=0.0)\n",
      "neutral\n",
      "RT @robinmonotti2: PHE: 25th June 2021\n",
      "Covid19 deaths:\n",
      "\n",
      "\"Vaccinated\": 70\n",
      "Unvaccinated: 44\n",
      "\n",
      "Draw your own conclusions.\n",
      "https://t.co/f67Z0O7s…\n",
      "Sentiment(polarity=0.6, subjectivity=1.0)\n",
      "positive\n",
      "@educationgovuk @GavinWilliamson @bbclaurak @mrjamesob @bbcnickrobinson @BBCMarkEaston @SkyNewsBreak this is what t… https://t.co/9PsqSCbVC1\n",
      "Sentiment(polarity=0.0, subjectivity=0.0)\n",
      "neutral\n",
      "RT @KKMPutrajaya: Terkini. 26 Jun. Kes baharu hari ini 5,803. \n",
      "\n",
      "#COVID19\n",
      "Sentiment(polarity=0.0, subjectivity=0.0)\n",
      "neutral\n"
     ]
    }
   ],
   "source": [
    "public_tweets = api.search('covid19')\n",
    "\n",
    "for tweet in public_tweets:\n",
    "    print(tweet.text)\n",
    "    analysis = TextBlob(tweet.text)\n",
    "    print(analysis.sentiment)\n",
    "    if analysis.sentiment[0]>0:\n",
    "        print('positive')\n",
    "    elif analysis.sentiment[0]<0:\n",
    "        print('negative')\n",
    "    else:\n",
    "        print('neutral')"
   ]
  },
  {
   "cell_type": "code",
   "execution_count": null,
   "metadata": {},
   "outputs": [],
   "source": []
  }
 ],
 "metadata": {
  "kernelspec": {
   "display_name": "Python 3",
   "language": "python",
   "name": "python3"
  },
  "language_info": {
   "codemirror_mode": {
    "name": "ipython",
    "version": 3
   },
   "file_extension": ".py",
   "mimetype": "text/x-python",
   "name": "python",
   "nbconvert_exporter": "python",
   "pygments_lexer": "ipython3",
   "version": "3.8.5"
  }
 },
 "nbformat": 4,
 "nbformat_minor": 4
}